{
 "cells": [
  {
   "cell_type": "code",
   "execution_count": 1,
   "metadata": {},
   "outputs": [],
   "source": [
    "import pandas as pd\n",
    "import math\n",
    "import numpy as np\n",
    "import copy\n",
    "import warnings\n",
    "import gc\n",
    "from sklearn import preprocessing\n",
    "warnings.filterwarnings('ignore')"
   ]
  },
  {
   "cell_type": "code",
   "execution_count": 2,
   "metadata": {},
   "outputs": [
    {
     "name": "stdout",
     "output_type": "stream",
     "text": [
      "       UID  gender    city prodName  ramCapacity  ramLeftRation  romCapacity  \\\n",
      "0  1000001       0  c00145   p00169          3.0           0.43         32.0   \n",
      "1  1000002       1   c0043    p0022          NaN           0.26          NaN   \n",
      "2  1000004       1  c00281    p0013          3.0           0.36         32.0   \n",
      "3  1000006       0  c00359    p0045          2.0           0.19         16.0   \n",
      "4  1000007       1    c006    p0097          6.0           0.20        137.0   \n",
      "\n",
      "   romLeftRation color  fontSize       ct        carrier   os  \n",
      "0           0.46   皓月银      1.15       4g   China_Mobile  8.0  \n",
      "1           0.59   渐变黑      1.00     wifi   China_Mobile  9.0  \n",
      "2           0.09   幻海蓝      1.00  4g#wifi   China_Mobile  8.0  \n",
      "3           0.42    灰色       NaN      NaN   China_Mobile  6.0  \n",
      "4           0.50   宝石蓝      1.00  4g#wifi  China_Telecom  9.0  \n",
      "       UID  bootTimes  AFTimes  BFTimes  CFTimes  DFTimes  EFTimes  FFTimes  \\\n",
      "0  1000001        108      0.0     0.00     1.00     0.07      0.0      0.0   \n",
      "1  1000002         14      0.0     0.17     4.93     1.23      3.9      1.0   \n",
      "2  1000003         13      1.0     0.00     7.73     3.00      1.7      0.0   \n",
      "3  1000004         57      0.0     0.03     1.37     0.63      0.0      0.0   \n",
      "4  1000005          0      0.0     0.00     0.00     0.00      0.0      0.0   \n",
      "\n",
      "   GFSum  \n",
      "0   3319  \n",
      "1    245  \n",
      "2   5987  \n",
      "3   7460  \n",
      "4      0  \n"
     ]
    }
   ],
   "source": [
    "chunksize = 10000\n",
    "\n",
    "user_basic_info = pd.read_csv('user_basic_info.csv', names=['UID', 'gender', 'city',\n",
    "                                                            'prodName', 'ramCapacity',\n",
    "                                                            'ramLeftRation', 'romCapacity',\n",
    "                                                            'romLeftRation', 'color',\n",
    "                                                            'fontSize', 'ct', 'carrier', 'os'])\n",
    "# print(user_basic_info.head(5))\n",
    "\n",
    "user_behavior_info = pd.read_csv('user_behavior_info.csv', names=['UID', 'bootTimes', 'AFTimes',\n",
    "                                                                 'BFTimes', 'CFTimes', 'DFTimes',\n",
    "                                                                 'EFTimes', 'FFTimes', 'GFSum'])\n",
    "# print(user_behavior_info.head(5))"
   ]
  },
  {
   "cell_type": "code",
   "execution_count": 3,
   "metadata": {
    "scrolled": true
   },
   "outputs": [
    {
     "name": "stdout",
     "output_type": "stream",
     "text": [
      "       UID   bootTimes   AFTimes   BFTimes  CFTimes   DFTimes  EFTimes  \\\n",
      "0  1000001  108.000000  0.636205  0.124205   1.0000  0.070000  2.06951   \n",
      "1  1000002   14.000000  0.636205  0.170000   4.9300  1.230000  3.90000   \n",
      "2  1000003   13.000000  1.000000  0.124205   7.7300  3.000000  1.70000   \n",
      "3  1000004   57.000000  0.636205  0.030000   1.3700  0.630000  2.06951   \n",
      "4  1000005   20.403632  0.636205  0.124205   1.6007  2.279703  2.06951   \n",
      "\n",
      "   FFTimes         GFSum  \n",
      "0  0.23407   3319.000000  \n",
      "1  1.00000    245.000000  \n",
      "2  0.23407   5987.000000  \n",
      "3  0.23407   7460.000000  \n",
      "4  0.23407  11945.093461  \n"
     ]
    }
   ],
   "source": [
    "user_behavior_info = user_behavior_info.mask(user_behavior_info==0).fillna(user_behavior_info.mean())\n",
    "# print(user_behavior_info.head(5))"
   ]
  },
  {
   "cell_type": "code",
   "execution_count": 4,
   "metadata": {},
   "outputs": [
    {
     "name": "stdout",
     "output_type": "stream",
     "text": [
      "         gender  ramCapacity  ramLeftRation  romCapacity  romLeftRation color  \\\n",
      "UID                                                                             \n",
      "1000001       0          3.0           0.43         32.0           0.46   皓月银   \n",
      "1000002       1          6.0           0.26         64.0           0.59   渐变黑   \n",
      "1000004       1          3.0           0.36         32.0           0.09   幻海蓝   \n",
      "1000006       0          2.0           0.19         16.0           0.42    灰色   \n",
      "1000007       1          6.0           0.20        137.0           0.50   宝石蓝   \n",
      "\n",
      "         fontSize       ct        carrier   os  \n",
      "UID                                             \n",
      "1000001      1.15       4g   China_Mobile  8.0  \n",
      "1000002      1.00     wifi   China_Mobile  9.0  \n",
      "1000004      1.00  4g#wifi   China_Mobile  8.0  \n",
      "1000006      1.00  4g#wifi   China_Mobile  6.0  \n",
      "1000007      1.00  4g#wifi  China_Telecom  9.0  \n"
     ]
    }
   ],
   "source": [
    "user_basic_info = user_basic_info.set_index('UID')\n",
    "basic_nan = user_basic_info.apply(lambda col: sum(col.isnull())/col.size)\n",
    "user_basic_info = user_basic_info.fillna(user_basic_info.mode().iloc[0])\n",
    "user_basic_info = user_basic_info.drop(columns=['city', 'prodName'])\n",
    "# print(user_basic_info.head(5))"
   ]
  },
  {
   "cell_type": "code",
   "execution_count": 5,
   "metadata": {
    "scrolled": false
   },
   "outputs": [
    {
     "name": "stdout",
     "output_type": "stream",
     "text": [
      "       UID  主题个性  休闲益智  体育竞速  便捷生活  儿童  出行导航  动作射击  商务  学习办公  ...  益智棋牌  社交通讯  \\\n",
      "0  1000010     0     0     0     1   0     6     0   0     0  ...   0.0     4   \n",
      "1  1000011     0     0     0     0   0     0     1   0     0  ...   0.0     3   \n",
      "2  1000013     0     0     0     1   0     4     0   0     0  ...   0.0     5   \n",
      "3  1000014     0     0     0     1   0     1     0   0     0  ...   0.0     6   \n",
      "4  1000016     0     0     0     0   0     0     0   0     0  ...   0.0     1   \n",
      "\n",
      "   经营策略  网络游戏  美食  表盘个性  角色扮演  购物比价  运动健康  金融理财  \n",
      "0     0     0   0   NaN     0     7     2     3  \n",
      "1     1     0   0   NaN     1     3     0     0  \n",
      "2     0     0   0   NaN     0     7     2     5  \n",
      "3     0     0   0   NaN     0     6     0     4  \n",
      "4     0     0   0   NaN     0     1     0     9  \n",
      "\n",
      "[5 rows x 28 columns]\n"
     ]
    }
   ],
   "source": [
    "user_actived_info = pd.read_csv('actived.csv', header=1, names=['UID', '主题个性', '休闲益智',\n",
    "                                                      '体育竞速', '便捷生活', '儿童',\n",
    "                                                      '出行导航', '动作射击', '商务',\n",
    "                                                      '学习办公', '实用工具', '影音娱乐',\n",
    "                                                      '拍摄美化', '教育', '新闻阅读', '旅游住宿',\n",
    "                                                      '棋牌桌游', '汽车', '益智棋牌', '社交通讯',\n",
    "                                                      '经营策略', '网络游戏', '美食', '表盘个性',\n",
    "                                                      '角色扮演', '购物比价', '运动健康', '金融理财'])\n",
    "# print(user_actived_info.head(5))"
   ]
  },
  {
   "cell_type": "code",
   "execution_count": 6,
   "metadata": {},
   "outputs": [
    {
     "name": "stdout",
     "output_type": "stream",
     "text": [
      "         主题个性  休闲益智  体育竞速  便捷生活  儿童  出行导航  动作射击  商务  学习办公  实用工具  ...  棋牌桌游  \\\n",
      "UID                                                              ...         \n",
      "1000010     0     0     0     1   0     6     0   0     0     5  ...     0   \n",
      "1000011     0     0     0     0   0     0     1   0     0     2  ...     0   \n",
      "1000013     0     0     0     1   0     4     0   0     0     6  ...     0   \n",
      "1000014     0     0     0     1   0     1     0   0     0    14  ...     0   \n",
      "1000016     0     0     0     0   0     0     0   0     0     3  ...     0   \n",
      "\n",
      "         汽车  社交通讯  经营策略  网络游戏  美食  角色扮演  购物比价  运动健康  金融理财  \n",
      "UID                                                        \n",
      "1000010   0     4     0     0   0     0     7     2     3  \n",
      "1000011   0     3     1     0   0     1     3     0     0  \n",
      "1000013   0     5     0     0   0     0     7     2     5  \n",
      "1000014   1     6     0     0   0     0     6     0     4  \n",
      "1000016   0     1     0     0   0     0     1     0     9  \n",
      "\n",
      "[5 rows x 25 columns]\n"
     ]
    }
   ],
   "source": [
    "user_actived_info = user_actived_info.set_index('UID')\n",
    "actived_nan = user_actived_info.apply(lambda col: sum(col.isnull())/col.size)\n",
    "actived_sum = user_actived_info.sum(axis=0)\n",
    "user_actived_info = user_actived_info.drop(columns=['益智棋牌', '表盘个性'])\n",
    "# print(user_actived_info.head(5))"
   ]
  },
  {
   "cell_type": "code",
   "execution_count": 7,
   "metadata": {},
   "outputs": [
    {
     "name": "stdout",
     "output_type": "stream",
     "text": [
      "       UID max_duration max_times max_freuency\n",
      "0  1000002         影音娱乐      社交通讯         购物比价\n",
      "1  1000003         社交通讯      社交通讯         实用工具\n",
      "2  1000004         影音娱乐      社交通讯         购物比价\n",
      "3  1000007         影音娱乐      购物比价         购物比价\n",
      "4  1000008         社交通讯      社交通讯         社交通讯\n"
     ]
    }
   ],
   "source": [
    "user_usage_info = pd.read_csv('max_usage.csv', header=1, names=['UID', 'max_duration',\n",
    "                                                               'max_times', 'max_freuency'])\n",
    "# print(user_usage_info.head(5))"
   ]
  },
  {
   "cell_type": "code",
   "execution_count": 8,
   "metadata": {},
   "outputs": [
    {
     "name": "stdout",
     "output_type": "stream",
     "text": [
      "       UID  gender  ramCapacity  ramLeftRation  romCapacity  romLeftRation  \\\n",
      "1  1000002       1          6.0           0.26         64.0           0.59   \n",
      "2  1000004       1          3.0           0.36         32.0           0.09   \n",
      "4  1000007       1          6.0           0.20        137.0           0.50   \n",
      "8  1000012       0          4.0           0.31         64.0           0.39   \n",
      "9  1000015       1          3.0           0.34         32.0           0.06   \n",
      "\n",
      "  color  fontSize       ct        carrier  ...  棋牌桌游   汽车  社交通讯  经营策略  网络游戏  \\\n",
      "1   渐变黑   1.00000     wifi   China_Mobile  ...   0.0  2.0   6.0   2.0   0.0   \n",
      "2   幻海蓝   1.00000  4g#wifi   China_Mobile  ...   0.0  0.0   5.0   0.0   0.0   \n",
      "4   宝石蓝   1.00000  4g#wifi  China_Telecom  ...   0.0  1.0   9.0   0.0   0.0   \n",
      "8   琥珀金   1.30001     wifi   China_Mobile  ...   0.0  0.0   4.0   0.0   0.0   \n",
      "9   皓月银   1.30000     wifi  China_Telecom  ...   0.0  0.0   2.0   0.0   0.0   \n",
      "\n",
      "    美食  角色扮演  购物比价  运动健康  金融理财  \n",
      "1  3.0   0.0   6.0   0.0   6.0  \n",
      "2  0.0   0.0   7.0   0.0   0.0  \n",
      "4  3.0   0.0  12.0   4.0  13.0  \n",
      "8  0.0   0.0   4.0   2.0   6.0  \n",
      "9  0.0   0.0   3.0   0.0   2.0  \n",
      "\n",
      "[5 rows x 47 columns]\n"
     ]
    }
   ],
   "source": [
    "user = user_basic_info.merge(user_behavior_info, on='UID', how='left')\n",
    "user = user.merge(user_usage_info, on='UID', how='left')\n",
    "user = user.merge(user_actived_info, on='UID', how='left')\n",
    "user = user.dropna()\n",
    "# print(user.head(5))"
   ]
  },
  {
   "cell_type": "code",
   "execution_count": 9,
   "metadata": {},
   "outputs": [
    {
     "name": "stdout",
     "output_type": "stream",
     "text": [
      "    gender  ramCapacity  ramLeftRation  romCapacity  romLeftRation color  \\\n",
      "4        1          3.0           0.34         32.0           0.06   皓月银   \n",
      "7        1          2.0           0.34         16.0           0.06    银色   \n",
      "9        0          4.0           0.31         64.0           0.20   琥珀金   \n",
      "14       0          6.0           0.26         68.0           0.64   宝石蓝   \n",
      "15       0          4.0           0.29         64.0           0.16   流光金   \n",
      "\n",
      "    fontSize       ct        carrier   os  ...  棋牌桌游   汽车  社交通讯  经营策略  网络游戏  \\\n",
      "4       1.30     wifi  China_Telecom  8.0  ...   0.0  0.0   2.0   0.0   0.0   \n",
      "7       1.00     wifi  China_Telecom  7.0  ...   0.0  0.0   3.0   0.0   0.0   \n",
      "9       1.00  4g#wifi  China_Telecom  8.0  ...   0.0  2.0   8.0   0.0   0.0   \n",
      "14      1.15     wifi  China_Telecom  9.0  ...   0.0  0.0   3.0   0.0   0.0   \n",
      "15      1.00  4g#wifi   China_Mobile  7.0  ...   0.0  0.0   3.0   0.0   0.0   \n",
      "\n",
      "     美食  角色扮演  购物比价 运动健康  金融理财  \n",
      "4   0.0   0.0   3.0  0.0   2.0  \n",
      "7   0.0   0.0   1.0  0.0   0.0  \n",
      "9   2.0   0.0   3.0  2.0  10.0  \n",
      "14  0.0   0.0   5.0  0.0   3.0  \n",
      "15  1.0   0.0   7.0  0.0   0.0  \n",
      "\n",
      "[5 rows x 46 columns]\n",
      "4     5.0\n",
      "7     2.0\n",
      "9     4.0\n",
      "14    2.0\n",
      "15    3.0\n",
      "Name: age, dtype: float64\n"
     ]
    }
   ],
   "source": [
    "train = pd.read_csv('age_train.csv', names=['UID', 'age'])\n",
    "trainData = train.merge(user,on='UID',how='left').dropna()\n",
    "trainFeature = trainData.drop(['UID', 'age'],axis=1)\n",
    "trainLabel = trainData.age\n",
    "\n",
    "# print(trainFeature.head(5))\n",
    "# print(trainLabel.head(5))"
   ]
  },
  {
   "cell_type": "code",
   "execution_count": 10,
   "metadata": {},
   "outputs": [
    {
     "name": "stdout",
     "output_type": "stream",
     "text": [
      "    gender  ramCapacity  ramLeftRation  romCapacity  romLeftRation  fontSize  \\\n",
      "4        1          3.0           0.34         32.0           0.06      1.30   \n",
      "7        1          2.0           0.34         16.0           0.06      1.00   \n",
      "9        0          4.0           0.31         64.0           0.20      1.00   \n",
      "14       0          6.0           0.26         68.0           0.64      1.15   \n",
      "15       0          4.0           0.29         64.0           0.16      1.00   \n",
      "\n",
      "     os  bootTimes   AFTimes   BFTimes  ...  max_freuency_棋牌桌游  \\\n",
      "4   8.0       12.0  0.636205  0.124205  ...                  0   \n",
      "7   7.0        5.0  0.636205  0.124205  ...                  0   \n",
      "9   8.0       97.0  0.636205  0.170000  ...                  0   \n",
      "14  9.0        5.0  1.000000  0.100000  ...                  0   \n",
      "15  7.0       42.0  0.636205  0.130000  ...                  0   \n",
      "\n",
      "    max_freuency_汽车  max_freuency_社交通讯  max_freuency_经营策略  max_freuency_网络游戏  \\\n",
      "4                 0                  1                  0                  0   \n",
      "7                 0                  0                  0                  0   \n",
      "9                 0                  1                  0                  0   \n",
      "14                0                  1                  0                  0   \n",
      "15                0                  0                  0                  0   \n",
      "\n",
      "    max_freuency_美食  max_freuency_角色扮演  max_freuency_购物比价  max_freuency_运动健康  \\\n",
      "4                 0                  0                  0                  0   \n",
      "7                 0                  0                  0                  0   \n",
      "9                 0                  0                  0                  0   \n",
      "14                0                  0                  0                  0   \n",
      "15                0                  0                  1                  0   \n",
      "\n",
      "    max_freuency_金融理财  \n",
      "4                   0  \n",
      "7                   0  \n",
      "9                   0  \n",
      "14                  0  \n",
      "15                  0  \n",
      "\n",
      "[5 rows x 253 columns]\n"
     ]
    }
   ],
   "source": [
    "trainFeature = pd.get_dummies(trainFeature)\n",
    "# print(trainFeature.head(5))"
   ]
  },
  {
   "cell_type": "code",
   "execution_count": 17,
   "metadata": {},
   "outputs": [
    {
     "name": "stdout",
     "output_type": "stream",
     "text": [
      "4     4.0\n",
      "7     1.0\n",
      "9     3.0\n",
      "14    1.0\n",
      "15    2.0\n",
      "Name: age, dtype: float64\n"
     ]
    }
   ],
   "source": [
    "trainLabel = trainLabel.apply(lambda x: x-1)\n",
    "# print(trainLabel.head(5))"
   ]
  },
  {
   "cell_type": "code",
   "execution_count": 20,
   "metadata": {},
   "outputs": [],
   "source": [
    "import xgboost as xgb\n",
    "import operator\n",
    "\n",
    "params = {\n",
    "    'booster':'gbtree',\n",
    "    'objective':'multi:softmax',\n",
    "    'num_class':6,\n",
    "    'stratified':True,\n",
    "    'max_depth':5,\n",
    "    'min_child_weight':1,\n",
    "    'gamma':3,\n",
    "    'subsample':0.8,#0.7\n",
    "    'colsample_bytree':0.6, \n",
    "    'lambda':3, \n",
    "    'eta':0.05,\n",
    "    'seed':20,\n",
    "    'silent':1,\n",
    "    'eval_metric':'auc'\n",
    "}"
   ]
  },
  {
   "cell_type": "code",
   "execution_count": 18,
   "metadata": {},
   "outputs": [],
   "source": [
    "dtrain = xgb.DMatrix(trainFeature, label=trainLabel)\n",
    "gbdt = xgb.train(params, dtrain, 1000)"
   ]
  },
  {
   "cell_type": "code",
   "execution_count": 22,
   "metadata": {},
   "outputs": [
    {
     "name": "stdout",
     "output_type": "stream",
     "text": [
      "[(u'max_times_\\u793e\\u4ea4\\u901a\\u8baf', 1), (u'max_duration_\\u7ecf\\u8425\\u7b56\\u7565', 1), (u'max_freuency_\\u793e\\u4ea4\\u901a\\u8baf', 1), (u'\\u5f71\\u97f3\\u5a31\\u4e50', 1), (u'bootTimes', 1), (u'max_duration_\\u5f71\\u97f3\\u5a31\\u4e50', 1), (u'max_duration_\\u68cb\\u724c\\u684c\\u6e38', 1), (u'max_freuency_\\u5b9e\\u7528\\u5de5\\u5177', 1), (u'max_freuency_\\u6559\\u80b2', 1), (u'ct_wifi', 1), (u'color_\\u6469\\u5361\\u91d1', 1), (u'AFTimes', 2), (u'\\u6c7d\\u8f66', 2), (u'ramCapacity', 2), (u'\\u65c5\\u6e38\\u4f4f\\u5bbf', 3), (u'\\u4f53\\u80b2\\u7ade\\u901f', 4), (u'\\u7ecf\\u8425\\u7b56\\u7565', 5), (u'DFTimes', 5), (u'max_freuency_\\u5f71\\u97f3\\u5a31\\u4e50', 6), (u'os', 6), (u'\\u5546\\u52a1', 7), (u'\\u5b9e\\u7528\\u5de5\\u5177', 8), (u'fontSize', 8), (u'\\u793e\\u4ea4\\u901a\\u8baf', 8), (u'\\u62cd\\u6444\\u7f8e\\u5316', 10), (u'\\u51fa\\u884c\\u5bfc\\u822a', 11), (u'\\u6559\\u80b2', 11), (u'\\u91d1\\u878d\\u7406\\u8d22', 12), (u'GFSum', 12), (u'\\u52a8\\u4f5c\\u5c04\\u51fb', 13), (u'\\u513f\\u7ae5', 15), (u'EFTimes', 16)]\n"
     ]
    }
   ],
   "source": [
    "importance = gbdt.get_fscore()\n",
    "importance = sorted(importance.items(), key=operator.itemgetter(1))\n",
    "# print(importance)"
   ]
  },
  {
   "cell_type": "code",
   "execution_count": null,
   "metadata": {},
   "outputs": [],
   "source": [
    "test = pd.read_csv('age_test.csv', names=['UID', 'age'])\n",
    "testData = test.merge(user,on='UID',how='left').dropna()\n",
    "testFeature = testData.drop(['UID', 'age'],axis=1)\n",
    "dtest = xgb.DMatrix(testFeature.values)\n",
    "predict = gbdt.predict(dtest)\n",
    "result = pd.DataFrame()\n",
    "result['UID'] = test['UID']\n",
    "result['Tag'] = predict\n",
    "print(result.head(5))"
   ]
  },
  {
   "cell_type": "code",
   "execution_count": null,
   "metadata": {},
   "outputs": [],
   "source": [
    "result.to_csv('result.csv',index=0)"
   ]
  },
  {
   "cell_type": "code",
   "execution_count": null,
   "metadata": {},
   "outputs": [],
   "source": []
  }
 ],
 "metadata": {
  "kernelspec": {
   "display_name": "Python [conda env:dm]",
   "language": "python",
   "name": "conda-env-dm-py"
  },
  "language_info": {
   "codemirror_mode": {
    "name": "ipython",
    "version": 2
   },
   "file_extension": ".py",
   "mimetype": "text/x-python",
   "name": "python",
   "nbconvert_exporter": "python",
   "pygments_lexer": "ipython2",
   "version": "2.7.16"
  }
 },
 "nbformat": 4,
 "nbformat_minor": 2
}
